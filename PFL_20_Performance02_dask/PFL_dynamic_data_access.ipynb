{
 "cells": [
  {
   "cell_type": "code",
   "execution_count": 1,
   "metadata": {
    "collapsed": true,
    "pycharm": {
     "is_executing": false
    }
   },
   "outputs": [
    {
     "name": "stderr",
     "text": [
      "/usr/local/lib/python3.6/dist-packages/pandas/compat/_optional.py:106: UserWarning: Pandas requires version '1.2.1' or newer of 'bottleneck' (version '1.2.0' currently installed).\n",
      "  warnings.warn(msg, UserWarning)\n"
     ],
     "output_type": "stream"
    }
   ],
   "source": [
    "import numpy as np\n",
    "import math\n",
    "import xarray as xr\n",
    "from dask import array as da_array\n",
    "import psutil\n",
    "from os import getpid\n",
    "import gc\n",
    "from time import process_time as ostime\n",
    "from time import sleep\n",
    "from matplotlib.pyplot import imshow\n",
    "import matplotlib.pyplot as plt\n",
    "from threading import Thread\n",
    "from threading import Event\n",
    "from PFL_memory_supplements import *\n",
    "from IPython.display import Image\n",
    "%matplotlib inline"
   ]
  },
  {
   "cell_type": "markdown",
   "metadata": {
    "pycharm": {
     "name": "#%% md\n"
    }
   },
   "source": [
    "## Python for Lunch (PFL) - Performance Sessions - High-Speed, Dynamic File Access\n",
    "\n",
    "### Motivation\n",
    "\n",
    "Python is a great introductory programming language with many safeguards and comfort functions that easy in learning.\n",
    "Most errors occuring during initial coding are easily counter-acted with hands-on guidance from internet sources.\n",
    "Barriers that remain and in programming and that are most common for novice programmers loosing interest are 2 points related to performance:\n",
    "\n",
    "- *Memory errors*: An infamous \"productivity stopper\" is an error such as ```MemoryError: out of memory```, which is often reached when using scientific data (e.g. hydrodynamic data) on laptops or workstations\n",
    "- *Slow computations*: if a simple computation takes hours or days, most users are starting being annoyed by software and programming\n",
    "\n",
    "Furthermore, both issues are (often) not easily resolvable by simple googling. \n",
    "\n",
    "In this section, we have a sneak-peak on the **data** aspect of performance. Most importantly, we want to answer the following questions:\n",
    "\n",
    "**What can we do in terms of basic programming guidelines to avoid memory over-usage ?** \n",
    "\n",
    "**Are there packages that allow speedy and comfortable processing of large chunks of data ?**\n",
    "\n",
    "\n",
    "### Preparations\n",
    "\n",
    "In order to track down memory issues and evaluate the quality of our optimizations, we first need some means of tracking the memory consumption of our program.\n",
    "The `psutil` package in this case provides us with the relevant information. As an example, in order to see how much memory (in bytes) our Jupyter script consumes, we use the following statement:"
   ]
  },
  {
   "cell_type": "code",
   "execution_count": 2,
   "metadata": {
    "pycharm": {
     "is_executing": false,
     "name": "#%%\n"
    }
   },
   "outputs": [
    {
     "name": "stdout",
     "text": [
      "Memory consumed by this Jupyter process: 128151552 B (~122.21484375 MB)\n"
     ],
     "output_type": "stream"
    }
   ],
   "source": [
    "import psutil\n",
    "from os import getpid\n",
    "\n",
    "mem_consumed = psutil.Process(getpid()).memory_info().rss\n",
    "print(\"Memory consumed by this Jupyter process: {} B (~{} MB)\".format(mem_consumed, mem_consumed / (1024 * 1024)))"
   ]
  },
  {
   "cell_type": "markdown",
   "metadata": {
    "pycharm": {
     "name": "#%% md\n"
    }
   },
   "source": [
    "Now, because we want to to measure this memory consumption in the background without disrupting our hydrodynamic calculations, we create a simple helper class that measures this values continuously in a given periodic `interval`. That is what we have the `BackgroundMeasureMemory` class for."
   ]
  },
  {
   "cell_type": "code",
   "execution_count": 3,
   "metadata": {
    "pycharm": {
     "is_executing": false,
     "name": "#%%\n"
    }
   },
   "outputs": [],
   "source": [
    "class BackgroundMeasureMemory(object):\n",
    "    def __init__(self, interval):\n",
    "        self.interval = interval\n",
    "        self.start = ostime()\n",
    "        self._mem_start = psutil.Process(getpid()).memory_info().rss\n",
    "        self._mem_measurement = []\n",
    "        if self._mem_start > 0:\n",
    "            self._mem_measurement.append(0)\n",
    "        self.event = Event()\n",
    "        self.thread = Thread(target=self._target)\n",
    "        self.thread.start()\n",
    "\n",
    "    def __del__(self):\n",
    "        del self._mem_measurement\n",
    "\n",
    "    def _target(self):\n",
    "        if self._mem_start <= 0:\n",
    "            self._mem_start = psutil.Process(getpid()).memory_info().rss\n",
    "            self._mem_measurement.append(0)\n",
    "        while not self.event.is_set():\n",
    "            self._mem_measurement.append( (psutil.Process(getpid()).memory_info().rss-self._mem_start)/1024.0 )\n",
    "            sleep(self.interval)\n",
    "\n",
    "    def stop(self):\n",
    "        self.event.set()\n",
    "        self.thread.join()\n",
    "\n",
    "    def get_measurement(self):\n",
    "        return self._mem_measurement"
   ]
  },
  {
   "cell_type": "markdown",
   "metadata": {
    "pycharm": {
     "name": "#%% md\n"
    }
   },
   "source": [
    "Note that this class takes an initial measurement and later only stores the memory differences. This is so we can better track what's the specific memory consumption of our hydrodynamic code alone.\n",
    "\n",
    "In the next step, we generate ourselves a small example dataset from the common *stommel* field equation. "
   ]
  },
  {
   "cell_type": "code",
   "execution_count": 4,
   "metadata": {
    "pycharm": {
     "is_executing": false,
     "name": "#%%\n"
    }
   },
   "outputs": [
    {
     "name": "stdout",
     "text": [
      "Time to generate stommel dataset in NumPy:   0.247628 sec.\n",
      "Memory consumed by the basic stommel field: 0.0 KB\n"
     ],
     "output_type": "stream"
    }
   ],
   "source": [
    "timed_mem_comume_np = BackgroundMeasureMemory(0.01)\n",
    "sleep(0.1)\n",
    "\n",
    "mem_consumed_s = psutil.Process(getpid()).memory_info().rss\n",
    "time_s_genStommel_np = ostime()\n",
    "U, V = create_stommel_array()\n",
    "time_e_genStommel_np = ostime()\n",
    "mem_consumed_e = psutil.Process(getpid()).memory_info().rss\n",
    "print(\"Time to generate stommel dataset in NumPy: {:10.6f} sec.\".format(time_e_genStommel_np-time_s_genStommel_np))\n",
    "print(\"Memory consumed by the basic stommel field: {} KB\".format((mem_consumed_e-mem_consumed_s)/1024))"
   ]
  },
  {
   "cell_type": "markdown",
   "metadata": {
    "pycharm": {
     "name": "#%% md\n"
    }
   },
   "source": [
    "In the next step, we compute the convolution of the 'U' flow component of stommel with a gaussian 5x5 kernel. This will illustrate a common kernel-based processing function\n",
    "of hydrodynamic data."
   ]
  },
  {
   "cell_type": "code",
   "execution_count": 5,
   "metadata": {
    "pycharm": {
     "is_executing": false,
     "name": "#%%\n"
    }
   },
   "outputs": [],
   "source": [
    "def get_lib(a):\n",
    "    return np if not isinstance(a, da_array.core.Array) else da_array\n",
    "\n",
    "def convolve(a, kernel, with_gc=False):\n",
    "    out_buffer = np.zeros(a.shape, dtype=a.dtype)\n",
    "    assert a.dtype==kernel.dtype\n",
    "    ik_buffer = np.zeros(kernel.shape, dtype=a.dtype)\n",
    "    out_mat = np.zeros(kernel.shape, dtype=a.dtype, order='C')\n",
    "    k_xi_diff = int((kernel.shape[0]-1)/2)\n",
    "    k_yi_diff = int((kernel.shape[1]-1)/2)\n",
    "    N = a.shape[0]*a.shape[1]\n",
    "    print(\"N = {}\".format(N))\n",
    "    last_out = -1\n",
    "    # use_da = isinstance(a, da_array.core.Array)\n",
    "    for i in range(a.shape[0]*a.shape[1]):\n",
    "        ik_buffer.fill(0)\n",
    "        xi = int(i/a.shape[0])\n",
    "        yi = int(i%a.shape[0])\n",
    "        xi_a_min = max((xi-k_xi_diff), 0)\n",
    "        yi_a_min = max((yi-k_yi_diff), 0) # %a.shape[0]\n",
    "        xi_a_max = min((xi+k_xi_diff), a.shape[0]-1)\n",
    "        yi_a_max = min((yi+k_yi_diff), a.shape[1]-1)\n",
    "        k_xi_a_min = (xi_a_min - xi) + k_xi_diff\n",
    "        k_yi_a_min = (yi_a_min - yi) + k_yi_diff\n",
    "        k_xi_a_max = (xi_a_max - xi) + k_xi_diff\n",
    "        k_yi_a_max = (yi_a_max - yi) + k_yi_diff\n",
    "        ik_buffer[k_xi_a_min:(k_xi_a_max+1), k_yi_a_min:(k_yi_a_max+1)] = a[xi_a_min:(xi_a_max+1), yi_a_min:(yi_a_max+1)]\n",
    "\n",
    "        perc_int = int((float(i)/N)*100.0)\n",
    "        if (perc_int % 10) == 0 and perc_int != last_out:\n",
    "            print(\"Convolution done by {} percent ...\".format(perc_int))\n",
    "            last_out = perc_int\n",
    "            if with_gc:\n",
    "                gc.collect()\n",
    "        np.dot(ik_buffer, kernel, out_mat)\n",
    "        out_buffer[xi, yi] = np.nanmean(out_mat.flatten())\n",
    "    return out_buffer\n",
    "\n",
    "\n",
    "x, y = np.meshgrid(np.linspace(-1,1,5), np.linspace(-1,1,5))\n",
    "d = np.sqrt(x*x+y*y)\n",
    "sigma, mu = 1.0, 0.0\n",
    "g = np.exp(-( (d-mu)**2 / ( 2.0 * sigma**2 ) ) ).astype(dtype=np.float32)"
   ]
  },
  {
   "cell_type": "markdown",
   "metadata": {
    "pycharm": {
     "name": "#%% md\n"
    }
   },
   "source": [
    "When the processing is now being executed, we time the execution and simultaneously log the memory consumption. \n",
    "This does not only provide us with a memory requirement estimate, but we can later also compare those measurements with\n",
    "alternative data handling techniques to see what we gain or loose in terms of memory consumption and speed.\n",
    "            "
   ]
  },
  {
   "cell_type": "code",
   "execution_count": 6,
   "metadata": {
    "pycharm": {
     "is_executing": false,
     "name": "#%%\n"
    }
   },
   "outputs": [
    {
     "name": "stdout",
     "text": [
      "N = 10000\n",
      "Convolution done by 0 percent ...\n",
      "Convolution done by 10 percent ...\n",
      "Convolution done by 20 percent ...\n",
      "Convolution done by 30 percent ...\n",
      "Convolution done by 40 percent ...\n",
      "Convolution done by 50 percent ...\n",
      "Convolution done by 60 percent ...\n",
      "Convolution done by 70 percent ...\n",
      "Convolution done by 80 percent ...\n",
      "Convolution done by 90 percent ...\n",
      "Time to convolve stommel dataset with 5x5 gaussian kernel in NumPy:   1.293258 sec.\n",
      "Time to compute the flow magnitude of stommel in NumPy:   0.000499 sec.\n"
     ],
     "output_type": "stream"
    },
    {
     "name": "stderr",
     "text": [
      "No handles with labels found to put in legend.\n",
      "/usr/lib/python3/dist-packages/ipykernel_launcher.py:26: UserWarning: Matplotlib is currently using module://ipykernel.pylab.backend_inline, which is a non-GUI backend, so cannot show the figure.\n"
     ],
     "output_type": "stream"
    },
    {
     "data": {
      "text/plain": "<Figure size 432x288 with 1 Axes>",
      "image/png": "[encoded data removed]"
     },
     "metadata": {},
     "output_type": "display_data"
    },
    {
     "data": {
      "text/plain": "<Figure size 1080x648 with 1 Axes>",
      "image/png": "[encoded data removed]"
     },
     "metadata": {},
     "output_type": "display_data"
    }
   ],
   "source": [
    "time_s_conv_np = ostime()\n",
    "d_res_np = convolve(U, g)\n",
    "time_e_conv_np = ostime()\n",
    "print(\"Time to convolve stommel dataset with 5x5 gaussian kernel in NumPy: {:10.6f} sec.\".format(time_e_conv_np-time_s_conv_np))\n",
    "imshow(np.asarray(np.array(d_res_np)))\n",
    "del d_res_np\n",
    "time_s_gradmag_np = ostime()\n",
    "d_res_np = np.sqrt(np.square(U) + np.square(U))\n",
    "time_e_gradmag_np = ostime()\n",
    "print(\"Time to compute the flow magnitude of stommel in NumPy: {:10.6f} sec.\".format(time_e_gradmag_np-time_s_gradmag_np))\n",
    "imshow(np.asarray(np.array(d_res_np)))\n",
    "del d_res_np\n",
    "sleep(0.1)\n",
    "timed_mem_comume_np.stop()\n",
    "\n",
    "fig, ax = plt.subplots(1, 1, figsize=(15, 9))\n",
    "plot_mem = timed_mem_comume_np.get_measurement()\n",
    "plot_t = np.arange(0, len(plot_mem), dtype=np.float32) * 0.01\n",
    "ax.plot(plot_t, plot_mem)\n",
    "ax.set_ylim([0, 2400])\n",
    "ax.legend()\n",
    "ax.set_xlabel('time_spent [sec]')\n",
    "ax.set_ylabel('memory_used [KB]')\n",
    "fig.tight_layout()\n",
    "fig.show()\n",
    "del timed_mem_comume_np"
   ]
  },
  {
   "cell_type": "markdown",
   "metadata": {
    "pycharm": {
     "name": "#%% md\n"
    }
   },
   "source": [
    "We see in the numbers and plots that there is an initial increase in memory consumption when generating the stommel field.\n",
    "Another increase is marked by allocating the buffers variables `out_buffer`, `ik_buffer` and `out_mat` in the `convolve(a, kernel)` function above,\n",
    "and the allocation of the return varianle `d_res_np`. Once those dense matrices (or: dense arrays) are allocated, the memory consumption stays constant."
   ]
  },
  {
   "cell_type": "markdown",
   "source": [
    "We want to note here that temporary arrays are explicitly destroyed via `del <array>` to clean up the memory and not leave large memory segments in a *ghost* state. Furthermore,\n",
    "actively enforcing the **garbage collection** of *ghost* memory segments can relieve the stress on available memory requirements and reduce the *used memory (in bytes)*. it\n",
    "can be actvated with calling the *convolve*-function as `convolve(a, kernel, True)`."
   ],
   "metadata": {
    "collapsed": false,
    "pycharm": {
     "name": "#%% md\n"
    }
   }
  },
  {
   "cell_type": "markdown",
   "metadata": {
    "pycharm": {
     "name": "#%% md\n"
    }
   },
   "source": [
    "### Chunking data with Dask\n",
    "\n",
    "Based on the measured observation, we can deduce that, if it is required to process all elements of a hydrodynamic field, we need access to all data elements,\n",
    "which leads to a constant, high memory requirement. In ocean sciences, while the hydrodynamic data may be stored on a global scale, we often care about specific\n",
    "regions in our study. Thus, wouldn't it be nice to _not_ require the global ocean data to be present in memory when just focusing on a sub-region ?\n",
    "\n",
    "This situation is similar to many other physical studies and disciplines. Because of that need for clever data access, `Dask` was created. \n",
    "`Dask` is a python packages that allows 'undercover' local data access while pointing to global, super-large datasets."
   ]
  },
  {
   "cell_type": "code",
   "source": [
    "#![Chunking Explanation](img/Dask_Chunking.png)\n",
    "Image(\"img/Dask_Chunking.png\")"
   ],
   "metadata": {
    "collapsed": false,
    "pycharm": {
     "name": "#%%\n",
     "is_executing": false
    }
   },
   "execution_count": 7,
   "outputs": [
    {
     "data": {
      "text/plain": "<IPython.core.display.Image object>",
      "image/png": "[encoded data removed]"
     },
     "metadata": {},
     "output_type": "execute_result",
     "execution_count": 7
    }
   ]
  },
  {
   "cell_type": "markdown",
   "source": [
    "Chunking works by parsing the *metadata* of a data structure (in terms of its extents and datatype) and create\n",
    "a *virtual array* based on those metadata. The virtual array is only a container - it does not hold any actual data.\n",
    "It is a *descriptor* of the data layout, which is sufficient for addressing and *pre-calculating* functions. Data are not loaded.\n",
    "The data are only loaded when (i) explicitly requested (e.g. by directly reading a specific value, or initiate a `array.compute(...)`)\n",
    "or (iI) when a specific calculation requires reading the actual data. Those data are automatically discarded after use.\n",
    "\n",
    "Note that, while data offers *interoperability* with NumPy, those are not the same thing. NumPy data are not automatically discarded\n",
    "after use. Hence, mixing **Dask** and **NumPy** can lead to memory leakage and memory issues. \n",
    "\n",
    "In order to observe the *dynamic data-loading* feature in action, we pick up our above example. First, we create chunked `dask` arrays from the underlying `numpy` fields. "
   ],
   "metadata": {
    "collapsed": false,
    "pycharm": {
     "name": "#%% md\n"
    }
   }
  },
  {
   "cell_type": "code",
   "execution_count": 8,
   "metadata": {
    "pycharm": {
     "is_executing": false,
     "name": "#%%\n"
    }
   },
   "outputs": [
    {
     "name": "stdout",
     "text": [
      "Time to generate stommel dataset in Dask:   0.001856 sec.\n"
     ],
     "output_type": "stream"
    }
   ],
   "source": [
    "timed_mem_consume_da = BackgroundMeasureMemory(0.01)\n",
    "sleep(0.1)\n",
    "time_s_convertStommel_da = ostime()\n",
    "stommel_u_da_base = da_array.from_array(U, chunks=(64, 64))\n",
    "stommel_v_da_base = da_array.from_array(V, chunks=(64, 64))\n",
    "time_e_convertStommel_da = ostime()\n",
    "print(\"Time to generate stommel dataset in Dask: {:10.6f} sec.\".format(time_e_convertStommel_da-time_s_convertStommel_da))"
   ]
  },
  {
   "cell_type": "markdown",
   "metadata": {
    "pycharm": {
     "name": "#%% md\n"
    }
   },
   "source": [
    "Next, we execute the field-gaussian convolution and the flow magnitude computation again and measure the memory behaviour."
   ]
  },
  {
   "cell_type": "code",
   "execution_count": 9,
   "metadata": {
    "pycharm": {
     "is_executing": false,
     "name": "#%%\n"
    }
   },
   "outputs": [
    {
     "name": "stdout",
     "text": [
      "N = 10000\n",
      "Convolution done by 0 percent ...\n",
      "Convolution done by 10 percent ...\n",
      "Convolution done by 20 percent ...\n",
      "Convolution done by 30 percent ...\n",
      "Convolution done by 40 percent ...\n",
      "Convolution done by 50 percent ...\n",
      "Convolution done by 60 percent ...\n",
      "Convolution done by 70 percent ...\n",
      "Convolution done by 80 percent ...\n",
      "Convolution done by 90 percent ...\n",
      "Time to convolve stommel dataset with 5x5 gaussian kernel in Dask:  26.710950 sec.\n",
      "Time to compute the flow magnitude of stommel in Dask:   0.002124 sec.\n"
     ],
     "output_type": "stream"
    },
    {
     "name": "stderr",
     "text": [
      "No handles with labels found to put in legend.\n",
      "/usr/lib/python3/dist-packages/ipykernel_launcher.py:27: UserWarning: Matplotlib is currently using module://ipykernel.pylab.backend_inline, which is a non-GUI backend, so cannot show the figure.\n"
     ],
     "output_type": "stream"
    },
    {
     "data": {
      "text/plain": "<Figure size 1080x648 with 1 Axes>",
      "image/png": "[encoded data removed]"
     },
     "metadata": {},
     "output_type": "display_data"
    }
   ],
   "source": [
    "time_s_conv_da = ostime()\n",
    "d_res_da = convolve(stommel_u_da_base, g)\n",
    "time_e_conv_da = ostime()\n",
    "print(\"Time to convolve stommel dataset with 5x5 gaussian kernel in Dask: {:10.6f} sec.\".format(time_e_conv_da-time_s_conv_da))\n",
    "del d_res_da\n",
    "time_s_gradmag_da = ostime()\n",
    "# d_res_da = da_array.square(stommel_u_da_base*stommel_v_da_base)/(da_array.fabs(stommel_u_da_base) * np.fabs(stommel_v_da_base))\n",
    "d_res_da = da_array.sqrt(da_array.square(stommel_u_da_base) + da_array.square(stommel_v_da_base))\n",
    "time_e_gradmag_da = ostime()\n",
    "print(\"Time to compute the flow magnitude of stommel in Dask: {:10.6f} sec.\".format(time_e_gradmag_da-time_s_gradmag_da))\n",
    "del d_res_da\n",
    "del stommel_u_da_base\n",
    "del stommel_v_da_base\n",
    "sleep(0.1)\n",
    "timed_mem_consume_da.stop()\n",
    "\n",
    "fig_da, ax_da = plt.subplots(1, 1, figsize=(15, 9))\n",
    "plot_mem = timed_mem_consume_da.get_measurement()\n",
    "plot_t = np.arange(0, len(plot_mem), dtype=np.float32) * 0.01\n",
    "ax_da.plot(plot_t, plot_mem)\n",
    "ax_da.set_ylim([0, 2400])\n",
    "ax_da.legend()\n",
    "ax_da.set_xlabel('time_spent [sec]')\n",
    "ax_da.set_ylabel('memory_used [KB]')\n",
    "fig_da.tight_layout()\n",
    "fig_da.show()\n",
    "del timed_mem_consume_da\n"
   ]
  },
  {
   "cell_type": "markdown",
   "metadata": {
    "pycharm": {
     "is_executing": false,
     "name": "#%% md\n"
    }
   },
   "source": [
    "What we can see in this measurement is that there is no steep ram in the graph, but rather more a (quick) gradual, step-wise increase in the memory cosumption.\n",
    "That is because, during the convolution, `Dask` is not loading all the data at once, but it requests the data of each field cell in chunks of `64 x 64 x 4B = 2^15B = 16KB` increments.\n",
    "But why does it consume more memory than the numpy-only version ? Shouldn't it be more efficient ?\n",
    "\n",
    "(1) The numpy base data are still in memory. `Dask` in this case provides a hardcopy of the individual chunks. Hence the memory consumption is naturally higher, because the base data need to be present.\n",
    "\n",
    "(2) `Dask` only loads the data that need to be there for the calculation. If our calculation span the entire data domain (i.e. all entries in `U` and `V`), we do not gain anything from dynamic loading.\n",
    "\n",
    " On point (2): we can show that data are dynamically loaded and unloaded by forcing Python's `garbage collector` to collect irrelevant chunks during the convolution, as follows:\n",
    " "
   ]
  },
  {
   "cell_type": "code",
   "execution_count": 10,
   "metadata": {
    "pycharm": {
     "is_executing": false,
     "name": "#%%\n"
    }
   },
   "outputs": [
    {
     "name": "stdout",
     "text": [
      "N = 10000\n",
      "Convolution done by 0 percent ...\n",
      "Convolution done by 10 percent ...\n",
      "Convolution done by 20 percent ...\n",
      "Convolution done by 30 percent ...\n",
      "Convolution done by 40 percent ...\n",
      "Convolution done by 50 percent ...\n",
      "Convolution done by 60 percent ...\n",
      "Convolution done by 70 percent ...\n",
      "Convolution done by 80 percent ...\n",
      "Convolution done by 90 percent ...\n",
      "Time to convolve stommel dataset with 5x5 gaussian kernel in Dask:  21.930698 sec.\n"
     ],
     "output_type": "stream"
    },
    {
     "name": "stderr",
     "text": [
      "No handles with labels found to put in legend.\n",
      "/usr/lib/python3/dist-packages/ipykernel_launcher.py:28: UserWarning: Matplotlib is currently using module://ipykernel.pylab.backend_inline, which is a non-GUI backend, so cannot show the figure.\n"
     ],
     "output_type": "stream"
    },
    {
     "data": {
      "text/plain": "<Figure size 1080x648 with 1 Axes>",
      "image/png": "[encoded data removed]"
     },
     "metadata": {},
     "output_type": "display_data"
    }
   ],
   "source": [
    "timed_mem_consume_da = BackgroundMeasureMemory(0.01)\n",
    "sleep(0.1)\n",
    "time_s_convertStommel_da = ostime()\n",
    "stommel_u_da_base = da_array.from_array(U, chunks=(64, 64))\n",
    "stommel_v_da_base = da_array.from_array(V, chunks=(64, 64))\n",
    "time_s_conv_da = ostime()\n",
    "d_res_da = convolve(stommel_u_da_base, g, with_gc=True)\n",
    "time_e_conv_da = ostime()\n",
    "print(\"Time to convolve stommel dataset with 5x5 gaussian kernel in Dask: {:10.6f} sec.\".format(time_e_conv_da-time_s_conv_da))\n",
    "del d_res_da\n",
    "del stommel_u_da_base\n",
    "del stommel_v_da_base\n",
    "del U\n",
    "del V\n",
    "sleep(0.1)\n",
    "timed_mem_consume_da.stop()\n",
    "\n",
    "fig_da, ax_da = plt.subplots(1, 1, figsize=(15, 9))\n",
    "plot_mem = timed_mem_consume_da.get_measurement()\n",
    "plot_t = np.arange(0, len(plot_mem), dtype=np.float32) * 0.01\n",
    "ax_da.plot(plot_t, plot_mem)\n",
    "ax_da.set_ylim([0, 2400])\n",
    "ax_da.legend()\n",
    "ax_da.set_xlabel('time_spent [sec]')\n",
    "ax_da.set_ylabel('memory_used [KB]')\n",
    "fig_da.tight_layout()\n",
    "fig_da.show()\n",
    "del timed_mem_consume_da\n",
    " "
   ]
  },
  {
   "cell_type": "markdown",
   "metadata": {
    "pycharm": {
     "name": "#%% md\n"
    }
   },
   "source": [
    "As we see, when controlling the garbage collection, we get a different picture: the memory consumtion is constantly low (at the expense of a little longer runtime), as data chunks are constantly loaded and unloaded from memory.\n",
    "What you can also see here is that this dynamic loading bears a cost: as `Dask` constantly needs to search (in the background) for the required data chunks relevant for the given field index, the computation takes longer to finish."
   ]
  },
  {
   "cell_type": "markdown",
   "metadata": {
    "pycharm": {
     "name": "#%% md\n"
    }
   },
   "source": [
    "## Loading data from file - the _real_ strength of 'Dask' and dynamic loading\n",
    "\n",
    "Chunking (field) data that is already in the memory has little use or relevance for all but niche corner cases. \n",
    "The point where data chunking becomes _actually_ important is in accessing physical data from files.\n",
    "\n",
    "We measure the impact of static vs. dynamic data loading by accessing the same hydrodynamic data as before - the stommel dataset - from file. \n",
    "In order to show the drastic impact, the file version does not consist of `200 x 200` grid points, but of `10,000 x 10,000`.\n",
    "This direct comparison is easiest facilitated within the `xarray` package (see PFL session 4 'xarray' by Leo van Kampenhout).\n",
    "In the first instance, we access the data statically by opening the file for the `U` flow component and measure the memory consumption.\n",
    " "
   ]
  },
  {
   "cell_type": "code",
   "execution_count": 11,
   "metadata": {
    "pycharm": {
     "is_executing": false,
     "name": "#%%\n"
    }
   },
   "outputs": [
    {
     "name": "stdout",
     "text": [
      "xdim: 10000; ydim: 10000\n",
      "Matrix/DenseArray type: <class 'numpy.ndarray'>\n",
      "Stommel dataset - memory size: 400428.0 KB\n"
     ],
     "output_type": "stream"
    }
   ],
   "source": [
    "proc = psutil.Process(getpid())\n",
    "gc.collect()\n",
    "mem_used_before = proc.memory_info().rss\n",
    "stommel_data = xr.open_dataset(\"./stommel_largeU.nc\", decode_cf=True, engine='netcdf4')\n",
    "stommel_data['decoded'] = True\n",
    "xdim = stommel_data.dims['x']\n",
    "ydim = stommel_data.dims['y']\n",
    "print(\"xdim: {}; ydim: {}\".format(xdim, ydim))\n",
    "stommel_u = stommel_data[\"vozocrtx\"]\n",
    "if isinstance(stommel_u, xr.DataArray):\n",
    "    stommel_u = stommel_u.data\n",
    "print(\"Matrix/DenseArray type: {}\".format(type(stommel_u)))\n",
    "mem_used_after = proc.memory_info().rss\n",
    "stommel_size = (mem_used_after-mem_used_before)/1024\n",
    "print(\"Stommel dataset - memory size: {} KB\".format(stommel_size))"
   ]
  },
  {
   "cell_type": "markdown",
   "metadata": {
    "pycharm": {
     "name": "#%% md\n"
    }
   },
   "source": [
    "Now, we generate an arbitrary field coordinate and access its value in the static data, measuring memory consumption again."
   ]
  },
  {
   "cell_type": "code",
   "execution_count": 12,
   "metadata": {
    "pycharm": {
     "is_executing": false,
     "name": "#%%\n"
    }
   },
   "outputs": [
    {
     "name": "stdout",
     "text": [
      "Accessing element (0, 0, 9189, 7997)\n",
      "Element value: 0.09562218189239502\n",
      "Memory consumption: 400436.0 KB\n"
     ],
     "output_type": "stream"
    }
   ],
   "source": [
    "coords_1 = np.random.randint((0, 0), (xdim, ydim), 2, dtype=np.int32)\n",
    "time_idx = 0\n",
    "depth_idx = 0\n",
    "print(\"Accessing element ({}, {}, {}, {})\".format(time_idx, depth_idx, coords_1[1], coords_1[0]))\n",
    "d_element = stommel_u[time_idx, depth_idx, coords_1[1], coords_1[0]]\n",
    "print(\"Element value: {}\".format(d_element))\n",
    "mem_used_after = proc.memory_info().rss\n",
    "print(\"Memory consumption: {} KB\".format((mem_used_after-mem_used_before)/1024))\n",
    "del d_element"
   ]
  },
  {
   "cell_type": "markdown",
   "metadata": {
    "pycharm": {
     "name": "#%% md\n"
    }
   },
   "source": [
    "And now, instead of excessing just 1 field item, we access a whole region, load the field region, and scale the `U` component velocities in that area."
   ]
  },
  {
   "cell_type": "code",
   "execution_count": 13,
   "metadata": {
    "pycharm": {
     "is_executing": false,
     "name": "#%%\n"
    }
   },
   "outputs": [
    {
     "name": "stdout",
     "text": [
      "Accessing subfield (0, 0, 7997:9189, 1136:1405)\n",
      "Sub-field 1: [[0.35369858 0.35365868 0.35361877 ... 0.34308323 0.34304333 0.34300342]\n",
      " [0.35377944 0.3537395  0.3536996  ... 0.34316164 0.34312174 0.34308183]\n",
      " [0.35386023 0.3538203  0.3537804  ... 0.34324002 0.3432001  0.34316018]\n",
      " ...\n",
      " [0.42322245 0.42317468 0.42312694 ... 0.41052052 0.41047275 0.410425  ]\n",
      " [0.42325714 0.4232094  0.42316163 ... 0.41055417 0.41050643 0.41045865]\n",
      " [0.4232918  0.42324403 0.4231963  ... 0.4105878  0.41054004 0.41049227]]\n",
      "field 1 * 5: [[1.7684929 1.7682934 1.7680938 ... 1.7154162 1.7152166 1.7150171]\n",
      " [1.7688972 1.7686975 1.768498  ... 1.7158082 1.7156087 1.7154092]\n",
      " [1.7693012 1.7691015 1.768902  ... 1.7162001 1.7160004 1.7158009]\n",
      " ...\n",
      " [2.1161122 2.1158733 2.1156347 ... 2.0526025 2.0523639 2.052125 ]\n",
      " [2.1162858 2.116047  2.115808  ... 2.0527709 2.0525322 2.0522933]\n",
      " [2.116459  2.1162202 2.1159813 ... 2.052939  2.0527003 2.0524614]]\n",
      "Memory consumption: 400612.0 KB\n",
      "Expected additional memory consumption: 5010.125 KB\n",
      "Actual additional memory consumption: 184.0 KB\n"
     ],
     "output_type": "stream"
    }
   ],
   "source": [
    "coords_2 = np.random.randint((0, 0), (xdim, ydim), 2, dtype=np.int32)\n",
    "coords = np.concatenate((coords_1.reshape(coords_1.shape[0], 1), coords_2.reshape(coords_2.shape[0], 1)), axis=1) \n",
    "slice_coords = [[np.min(coords, 0)[0], np.max(coords, 0)[0]],\n",
    "                [np.min(coords, 0)[1], np.max(coords, 0)[1]]]\n",
    "print(\"Accessing subfield ({}, {}, {}:{}, {}:{})\".format(time_idx, depth_idx, slice_coords[0][0],slice_coords[0][1], slice_coords[1][0],slice_coords[1][1]))\n",
    "d_slice_1 = stommel_u[time_idx, depth_idx, slice_coords[0][0]:slice_coords[0][1], slice_coords[1][0]:slice_coords[1][1]]\n",
    "print(\"Sub-field 1: {}\".format(d_slice_1))\n",
    "d_res = d_slice_1 * 5.0\n",
    "print(\"field 1 * 5: {}\".format(d_res))\n",
    "mem_used_after = proc.memory_info().rss\n",
    "stommel_subsize = (mem_used_after-mem_used_before)/1024\n",
    "print(\"Memory consumption: {} KB\".format(stommel_subsize))\n",
    "print(\"Expected additional memory consumption: {} KB\".format(2*2*(slice_coords[0][1]-slice_coords[0][0])*(slice_coords[1][1]-slice_coords[1][0])*4/1024))\n",
    "print(\"Actual additional memory consumption: {} KB\".format(stommel_subsize-stommel_size))\n",
    "del d_slice_1\n",
    "del d_res\n",
    "del stommel_u\n",
    "stommel_data.close()\n",
    "del stommel_data"
   ]
  },
  {
   "cell_type": "markdown",
   "metadata": {
    "pycharm": {
     "name": "#%% md\n"
    }
   },
   "source": [
    "What we observe is that, with the first data access, we load all data into memory. \n",
    "Reading one field item does not affect the memory consumption - at least not by a measureable quantity (i.e. storing the field item in `d_element` does consume `1x 4 Byte`, bon on the `KB` scale, it is not captured).\n",
    "Reading (1 subfield) and multiplying (1 subfield) the chosen region consumes exactly `2 [# fields] x 2 [in-and-out] x <region_size x> x <region_size_y> x 4 Byte` extra memory.\n",
    "Those results are as expected and logical.\n",
    "\n",
    "What happens now if we access the file data dynamically, via `Dask` ?  "
   ]
  },
  {
   "cell_type": "code",
   "execution_count": 14,
   "metadata": {
    "pycharm": {
     "is_executing": false,
     "name": "#%%\n"
    }
   },
   "outputs": [
    {
     "name": "stdout",
     "text": [
      "Matrix/DenseArray type: <class 'dask.array.core.Array'>\n",
      "Stommel dataset - memory size: 3876.0 KB\n"
     ],
     "output_type": "stream"
    }
   ],
   "source": [
    "import os, requests\n",
    "\n",
    "if not os.path.exists('stommel_largeU.nc'):\n",
    "    data_url = \"https://surfdrive.surf.nl/files/index.php/s/Sng6Kmy1GExbMUq/download\"\n",
    "    # data_url = \"https://surfdrive.surf.nl/files/index.php/s/T7QyLbGjaGMdnVD/download\"\n",
    "    requests.get(data_url)\n",
    "\n",
    "proc = psutil.Process(getpid())\n",
    "gc.collect()\n",
    "mem_used_before = proc.memory_info().rss\n",
    "stommel_data_da = xr.open_dataset(\"./stommel_largeU.nc\", decode_cf=True, engine='netcdf4', chunks={'x': 128, 'y': 128})\n",
    "stommel_data_da['decoded'] = True\n",
    "stommel_u_da = stommel_data_da[\"vozocrtx\"]\n",
    "if isinstance(stommel_u_da, xr.DataArray):\n",
    "    stommel_u_da = stommel_u_da.data\n",
    "print(\"Matrix/DenseArray type: {}\".format(type(stommel_u_da)))\n",
    "mem_used_after = proc.memory_info().rss\n",
    "print(\"Stommel dataset - memory size: {} KB\".format((mem_used_after-mem_used_before)/1024))"
   ]
  },
  {
   "cell_type": "code",
   "execution_count": 15,
   "metadata": {
    "pycharm": {
     "is_executing": false,
     "name": "#%%\n"
    }
   },
   "outputs": [
    {
     "name": "stdout",
     "text": [
      "Accessing element (0, 0, 9189, 7997)\n",
      "Element value: 0.09562218189239502\n",
      "Memory consumption: 3876.0 KB\n"
     ],
     "output_type": "stream"
    }
   ],
   "source": [
    "print(\"Accessing element ({}, {}, {}, {})\".format(time_idx, depth_idx, coords_1[1], coords_1[0]))\n",
    "d_element_da = stommel_u_da[time_idx, depth_idx, coords_1[1], coords_1[0]]\n",
    "print(\"Element value: {}\".format(d_element_da.compute()))\n",
    "mem_used_after = proc.memory_info().rss\n",
    "print(\"Memory consumption: {} KB\".format((mem_used_after-mem_used_before)/1024))\n",
    "del d_element_da"
   ]
  },
  {
   "cell_type": "code",
   "execution_count": 16,
   "metadata": {
    "pycharm": {
     "is_executing": false,
     "name": "#%%\n"
    }
   },
   "outputs": [
    {
     "name": "stdout",
     "text": [
      "Accessing subfield (0, 0, 7997:9189, 1136:1405)\n",
      "Sub-field 1: [[0.35369858 0.35365868 0.35361877 ... 0.34308323 0.34304333 0.34300342]\n",
      " [0.35377944 0.3537395  0.3536996  ... 0.34316164 0.34312174 0.34308183]\n",
      " [0.35386023 0.3538203  0.3537804  ... 0.34324002 0.3432001  0.34316018]\n",
      " ...\n",
      " [0.42322245 0.42317468 0.42312694 ... 0.41052052 0.41047275 0.410425  ]\n",
      " [0.42325714 0.4232094  0.42316163 ... 0.41055417 0.41050643 0.41045865]\n",
      " [0.4232918  0.42324403 0.4231963  ... 0.4105878  0.41054004 0.41049227]]\n",
      "field 1 * 5: [[1.7684929 1.7682934 1.7680938 ... 1.7154162 1.7152166 1.7150171]\n",
      " [1.7688972 1.7686975 1.768498  ... 1.7158082 1.7156087 1.7154092]\n",
      " [1.7693012 1.7691015 1.768902  ... 1.7162001 1.7160004 1.7158009]\n",
      " ...\n",
      " [2.1161122 2.1158733 2.1156347 ... 2.0526025 2.0523639 2.052125 ]\n",
      " [2.1162858 2.116047  2.115808  ... 2.0527709 2.0525322 2.0522933]\n",
      " [2.116459  2.1162202 2.1159813 ... 2.052939  2.0527003 2.0524614]]\n",
      "Memory consumption: 6124.0 KB\n"
     ],
     "output_type": "stream"
    }
   ],
   "source": [
    "print(\"Accessing subfield ({}, {}, {}:{}, {}:{})\".format(time_idx, depth_idx, slice_coords[0][0],slice_coords[0][1], slice_coords[1][0],slice_coords[1][1]))\n",
    "d_slice_1_da = stommel_u_da[time_idx, depth_idx, slice_coords[0][0]:slice_coords[0][1], slice_coords[1][0]:slice_coords[1][1]]\n",
    "print(\"Sub-field 1: {}\".format(d_slice_1_da.compute()))\n",
    "d_res = d_slice_1_da * 5.0\n",
    "print(\"field 1 * 5: {}\".format(d_res.compute()))\n",
    "mem_used_after = proc.memory_info().rss\n",
    "print(\"Memory consumption: {} KB\".format((mem_used_after-mem_used_before)/1024))\n",
    "del d_slice_1_da\n",
    "del d_res\n",
    "del stommel_u_da\n",
    "stommel_data_da.close()\n",
    "del stommel_data_da"
   ]
  },
  {
   "cell_type": "markdown",
   "metadata": {
    "pycharm": {
     "name": "#%% md\n"
    }
   },
   "source": [
    "What we observe with dynamic loading - by defining a chunk size and locking the file - is that only very little memory is consumed by opening the file, at least much less than `10,000 x 10,000 x 4 / 1024 = 390,625 KB`.\n",
    "This is because `Dask` only allocates a 'virtual data array'. A 'virtual data array' is a data structure that only holds the array metadata (e.g. data type, array boundary coordinates, dimensionality ...) and an empty template grid. It also holds the information about how the file is being split in `chunks`.\n",
    "The data stays virtual as long as we only access meta data.\n",
    "\n",
    "Data is actually allocated when we access a specific field item. At that point though, `Dask` not only creates a 4-byte variable for the data, but also *physically* loads the whole chunk into memory where the requested coordinate is located. Note though that it only loads one chunk (here: `128 x 128 x 4 Byte = 64 KB`).\n",
    "The same thing counts for accessing a sub-region (like: a study area) in the stored file: `Dask` only loads the the chunks that are covered by the requested area.\n",
    "\n",
    "In turn, this means that - if combined with the `garbage collection` trick above - it would be possible to load data stored in a 1 Terabyte (TB) hydrodynamic field file and process it on your laptop or Mac, which has between 8 and 128 Gigabyte (GB).\n",
    "\n",
    "So, no excuses anymore such as 'the data is too big to work with them on my computer' ? Hopefully so :-) "
   ]
  }
 ],
 "metadata": {
  "kernelspec": {
   "display_name": "Python 3",
   "language": "python",
   "name": "python3"
  },
  "language_info": {
   "codemirror_mode": {
    "name": "ipython",
    "version": 3
   },
   "file_extension": ".py",
   "mimetype": "text/x-python",
   "name": "python",
   "nbconvert_exporter": "python",
   "pygments_lexer": "ipython3",
   "version": "3.6.9"
  },
  "pycharm": {
   "stem_cell": {
    "cell_type": "raw",
    "source": [],
    "metadata": {
     "collapsed": false
    }
   }
  }
 },
 "nbformat": 4,
 "nbformat_minor": 1
}